{
 "cells": [
  {
   "cell_type": "code",
   "execution_count": 5,
   "metadata": {},
   "outputs": [
    {
     "name": "stdout",
     "output_type": "stream",
     "text": [
      "Filesystem                                                                                                                                                                       Size  Used Avail Use% Mounted on\n",
      "overlay                                                                                                                                                                          380G   93G  268G  26% /\n",
      "tmpfs                                                                                                                                                                             64M     0   64M   0% /dev\n",
      "tmpfs                                                                                                                                                                             94G     0   94G   0% /sys/fs/cgroup\n",
      "/dev/sda6                                                                                                                                                                        380G   93G  268G  26% /sbin/docker-init\n",
      "10.11.10.51:/mnt/projects/_e784567a6ae64c3184a9c80b69b976ce/track3_cmu/code                                                                                                      879T  181T  653T  22% /code\n",
      "10.11.10.51:/mnt/gpai/LN0100/jupyterlab                                                                                                                                          879T  181T  653T  22% /jupyterlab\n",
      "10.11.10.51:/mnt/gpai/LN0100/_e784567a6ae64c3184a9c80b69b976ce/track3_cmu-bmf1yx/DockerContainerScripts/script_track3_cmu-bmf1yx-container_e45_1587904639958_32318_01_000002.sh  879T  181T  653T  22% /pai_bootstrap.sh\n",
      "10.11.10.51:/mnt/projects/_e784567a6ae64c3184a9c80b69b976ce/track3_cmu/outputs/73                                                                                                879T  181T  653T  22% /output\n",
      "shm                                                                                                                                                                              8.0G   44K  8.0G   1% /dev/shm\n",
      "10.11.10.51:/mnt/gpai/LN0100/_e784567a6ae64c3184a9c80b69b976ce/track3_cmu-bmf1yx/log                                                                                             879T  181T  653T  22% /_e784567a6ae64c3184a9c80b69b976ce/track3_cmu-bmf1yx/log\n",
      "10.11.10.51:/mnt/gpai/LN0100/_e784567a6ae64c3184a9c80b69b976ce/track3_cmu-bmf1yx/finished                                                                                        879T  181T  653T  22% /_e784567a6ae64c3184a9c80b69b976ce/track3_cmu-bmf1yx/finished\n",
      "10.11.10.51:/mnt/datasets/_e784567a6ae64c3184a9c80b69b976ce/track3_dataset                                                                                                       879T  181T  653T  22% /data/caohw9/track3_dataset\n",
      "10.11.10.51:/mnt/datasets/_e784567a6ae64c3184a9c80b69b976ce/track3_intermediate                                                                                                  879T  181T  653T  22% /data/caohw9/track3_intermediate\n",
      "10.11.10.51:/mnt/gpai/LN0100/_e784567a6ae64c3184a9c80b69b976ce/track3_cmu-bmf1yx/ssh                                                                                             879T  181T  653T  22% /_e784567a6ae64c3184a9c80b69b976ce/track3_cmu-bmf1yx/ssh\n",
      "10.11.10.51:/mnt/datasets/_e784567a6ae64c3184a9c80b69b976ce/cu100                                                                                                                879T  181T  653T  22% /data/caohw9/cu100\n",
      "10.11.10.51:/mnt/gpai/LN0100/_e784567a6ae64c3184a9c80b69b976ce/track3_cmu-bmf1yx/tmp                                                                                             879T  181T  653T  22% /_e784567a6ae64c3184a9c80b69b976ce/track3_cmu-bmf1yx/tmp\n",
      "10.11.10.51:/mnt/models/_e784567a6ae64c3184a9c80b69b976ce/track3_model                                                                                                           879T  181T  653T  22% /model/caohw9/track3_model\n",
      "tmpfs                                                                                                                                                                             94G     0   94G   0% /proc/asound\n",
      "tmpfs                                                                                                                                                                             94G     0   94G   0% /proc/acpi\n",
      "tmpfs                                                                                                                                                                             94G     0   94G   0% /proc/scsi\n",
      "tmpfs                                                                                                                                                                             94G     0   94G   0% /sys/firmware\n"
     ]
    }
   ],
   "source": [
    "!df -h"
   ]
  },
  {
   "cell_type": "code",
   "execution_count": null,
   "metadata": {},
   "outputs": [],
   "source": []
  }
 ],
 "metadata": {
  "kernelspec": {
   "display_name": "Python 3",
   "language": "python",
   "name": "python3"
  },
  "language_info": {
   "codemirror_mode": {
    "name": "ipython",
    "version": 3
   },
   "file_extension": ".py",
   "mimetype": "text/x-python",
   "name": "python",
   "nbconvert_exporter": "python",
   "pygments_lexer": "ipython3",
   "version": "3.6.10"
  }
 },
 "nbformat": 4,
 "nbformat_minor": 4
}
