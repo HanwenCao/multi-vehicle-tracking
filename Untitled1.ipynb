{
 "cells": [
  {
   "cell_type": "code",
   "execution_count": 1,
   "metadata": {},
   "outputs": [
    {
     "name": "stdout",
     "output_type": "stream",
     "text": [
      "Looking in indexes: https://mirrors.ustc.edu.cn/pypi/web/simple\n",
      "Collecting yacs\n",
      "  Downloading https://mirrors.tuna.tsinghua.edu.cn/pypi/web/packages/38/4f/fe9a4d472aa867878ce3bb7efb16654c5d63672b86dc0e6e953a67018433/yacs-0.1.8-py3-none-any.whl\n",
      "Requirement already satisfied: PyYAML in /opt/conda/lib/python3.6/site-packages (from yacs) (5.3)\n",
      "Installing collected packages: yacs\n",
      "Successfully installed yacs-0.1.8\n",
      "Note: you may need to restart the kernel to use updated packages.\n"
     ]
    }
   ],
   "source": [
    "pip install yacs"
   ]
  },
  {
   "cell_type": "code",
   "execution_count": 2,
   "metadata": {},
   "outputs": [
    {
     "name": "stdout",
     "output_type": "stream",
     "text": [
      "/code/ELECTRICITY-MTMC\n"
     ]
    }
   ],
   "source": [
    "cd ELECTRICITY-MTMC/"
   ]
  },
  {
   "cell_type": "code",
   "execution_count": 13,
   "metadata": {},
   "outputs": [
    {
     "name": "stdout",
     "output_type": "stream",
     "text": [
      "2020-08-14 13:21:42,382 reid_baseline INFO: Using 1 GPUS\n",
      "2020-08-14 13:21:42,382 reid_baseline INFO: Loaded configuration file configs/aicity20.yml\n",
      "2020-08-14 13:21:42,382 reid_baseline INFO: \n",
      "MODEL:\n",
      "#   PRETRAIN_CHOICE: 'imagenet'\n",
      "  PRETRAIN_CHOICE: ('self')\n",
      "  PRETRAIN_PATH: ''\n",
      "  METRIC_LOSS_TYPE: 'triplet'\n",
      "  TRIPLET_LOSS_WEIGHT: 1.0\n",
      "  IF_LABELSMOOTH: 'on'\n",
      "  NAME: 'resnet50_ibn_a'\n",
      "  POOLING_METHOD: 'GeM'\n",
      "  ID_LOSS_TYPE: 'circle'\n",
      "\n",
      "INPUT:\n",
      "  SIZE_TRAIN: [256, 256]\n",
      "  SIZE_TEST: [256, 256]\n",
      "  PROB: 0.5 # random horizontal flip\n",
      "  RE_PROB: 0.5 # random erasing\n",
      "  PADDING: 10\n",
      "\n",
      "DATASETS:\n",
      "  TRAIN: ('aicity20',)\n",
      "  TEST: ('veri',)\n",
      "\n",
      "DATALOADER:\n",
      "  SAMPLER: 'softmax_triplet'\n",
      "  NUM_INSTANCE: 4\n",
      "  NUM_WORKERS: 8\n",
      "\n",
      "SOLVER:\n",
      "  FP16: True\n",
      "  LR_SCHEDULER: 'cosine_step'\n",
      "  OPTIMIZER_NAME: 'Adam'\n",
      "  WARMUP_ITERS: 0\n",
      "  MAX_EPOCHS: 12\n",
      "  BASE_LR: 0.00035\n",
      "\n",
      "  BIAS_LR_FACTOR: 1\n",
      "  WEIGHT_DECAY: 0.0005\n",
      "  WEIGHT_DECAY_BIAS: 0.0005\n",
      "  IMS_PER_BATCH: 64\n",
      "  LOG_PERIOD: 100\n",
      "  EVAL_PERIOD: 2\n",
      "\n",
      "  COSINE_MARGIN: 0.35\n",
      "  COSINE_SCALE: 64\n",
      "\n",
      "TEST:\n",
      "  IMS_PER_BATCH: 128\n",
      "#   WEIGHT: \"path\"\n",
      "  WEIGHT: \"/data/caohw9/aicity20/0409-ensemble/r50-320-circle/best.pth\"\n",
      "  NECK_FEAT: 'after'\n",
      "  FEAT_NORM: 'yes'\n",
      "\n",
      "OUTPUT_DIR: \"/output\" #OUTPUT_DIR: \"/output/aicity20/baseline\"\n",
      "\n",
      "\n",
      "args.save_npy= ./exp/distmatrix.npz\n",
      "args.tracklet_path= ./exp/tracklets_mask.txt\n",
      "args.track3_path= ./exp/track3.txt\n",
      "Currently using GPU 0\n",
      "Initializing image data manager\n",
      "=> Initializing TEST datasets\n",
      "num_workers =  2\n",
      "***********************dataset: query; test ************************\n",
      "/data/caohw9/track3_intermediate/aic_test_bigimg/image_query\n",
      "/data/caohw9/track3_intermediate/aic_test_bigimg/image_test\n",
      "using global feature baseline\n",
      "using GeM pooling\n",
      "using circle\n",
      "Model size: 25.561 M\n",
      "Matching aic_test ...\n",
      "100%|#############################################| 2/2 [00:04<00:00,  2.02s/it]\n",
      "Extracted features for query set, obtained 297-by-2048 matrix\n",
      "100%|###########################################| 37/37 [00:16<00:00,  2.26it/s]\n",
      "Extracted features for gallery set, obtained 9433-by-2048 matrix\n",
      "=> BatchTime(s)/BatchSize(img): 0.158/256\n",
      "using GPU to compute original distance\n",
      "starting re_ranking\n",
      "re-ranking done\n",
      "post-process done\n",
      "False\n"
     ]
    }
   ],
   "source": [
    "!bash test_ruiyan.sh"
   ]
  },
  {
   "cell_type": "code",
   "execution_count": null,
   "metadata": {},
   "outputs": [],
   "source": []
  }
 ],
 "metadata": {
  "kernelspec": {
   "display_name": "Python 3",
   "language": "python",
   "name": "python3"
  },
  "language_info": {
   "codemirror_mode": {
    "name": "ipython",
    "version": 3
   },
   "file_extension": ".py",
   "mimetype": "text/x-python",
   "name": "python",
   "nbconvert_exporter": "python",
   "pygments_lexer": "ipython3",
   "version": "3.6.10"
  }
 },
 "nbformat": 4,
 "nbformat_minor": 4
}
